{
 "cells": [
  {
   "cell_type": "markdown",
   "metadata": {},
   "source": [
    "# LLM"
   ]
  },
  {
   "cell_type": "code",
   "execution_count": 18,
   "metadata": {},
   "outputs": [
    {
     "data": {
      "text/plain": [
       "CompletionResponse(text='Paul Graham is a renowned American computer scientist, entrepreneur, and programmer. He\\'s best known for being the co-founder of Y Combinator, a seed investment firm that has backed many successful startups.\\n\\nGraham was born in 1961 in New York City. He studied at Harvard University and later earned his Ph.D. in theoretical physics from the University of California, Berkeley.\\n\\nBefore co-founding Y Combinator, Graham worked as a programmer for Apple and Microsoft. He also taught computer science at Stanford University and was an advisor to the US Department of Defense\\'s Advanced Research Projects Agency (ARPA).\\n\\nIn 2007, Graham left his job at Y Combinator to pursue his passion for art and design. He started the Art20 organization, which focuses on supporting emerging artists and providing resources for creative projects.\\n\\nGraham is also known for his writing and public speaking skills. He\\'s authored several books, including \"The Hour Between Dog and Wolf\" (a memoir about his work at Y Combinator), and has given talks at conferences like TED and the Aspen Institute.\\n\\nThroughout his career, Graham has been recognized with numerous awards and honors, including being named one of Time Magazine\\'s 100 Most Influential People in the World.', additional_kwargs={'tool_calls': []}, raw={'model': 'llama3.2:1b', 'created_at': '2024-10-23T21:17:45.270733745Z', 'message': {'role': 'assistant', 'content': 'Paul Graham is a renowned American computer scientist, entrepreneur, and programmer. He\\'s best known for being the co-founder of Y Combinator, a seed investment firm that has backed many successful startups.\\n\\nGraham was born in 1961 in New York City. He studied at Harvard University and later earned his Ph.D. in theoretical physics from the University of California, Berkeley.\\n\\nBefore co-founding Y Combinator, Graham worked as a programmer for Apple and Microsoft. He also taught computer science at Stanford University and was an advisor to the US Department of Defense\\'s Advanced Research Projects Agency (ARPA).\\n\\nIn 2007, Graham left his job at Y Combinator to pursue his passion for art and design. He started the Art20 organization, which focuses on supporting emerging artists and providing resources for creative projects.\\n\\nGraham is also known for his writing and public speaking skills. He\\'s authored several books, including \"The Hour Between Dog and Wolf\" (a memoir about his work at Y Combinator), and has given talks at conferences like TED and the Aspen Institute.\\n\\nThroughout his career, Graham has been recognized with numerous awards and honors, including being named one of Time Magazine\\'s 100 Most Influential People in the World.'}, 'done_reason': 'stop', 'done': True, 'total_duration': 25882134901, 'load_duration': 18108549, 'prompt_eval_count': 30, 'prompt_eval_duration': 172719000, 'eval_count': 251, 'eval_duration': 25649818000, 'usage': {'prompt_tokens': 30, 'completion_tokens': 251, 'total_tokens': 281}}, logprobs=None, delta=None)"
      ]
     },
     "execution_count": 18,
     "metadata": {},
     "output_type": "execute_result"
    }
   ],
   "source": [
    "from llama_index.llms.ollama import Ollama\n",
    "llm = Ollama(model=\"llama3.2:1b\", request_timeout=120.0)\n",
    "resp = llm.complete(\"Who is Paul Graham?\")\n",
    "resp"
   ]
  },
  {
   "cell_type": "code",
   "execution_count": 19,
   "metadata": {},
   "outputs": [
    {
     "data": {
      "text/plain": [
       "'Paul Graham is a renowned American computer scientist, entrepreneur, and programmer. He\\'s best known for being the co-founder of Y Combinator, a seed investment firm that has backed many successful startups.\\n\\nGraham was born in 1961 in New York City. He studied at Harvard University and later earned his Ph.D. in theoretical physics from the University of California, Berkeley.\\n\\nBefore co-founding Y Combinator, Graham worked as a programmer for Apple and Microsoft. He also taught computer science at Stanford University and was an advisor to the US Department of Defense\\'s Advanced Research Projects Agency (ARPA).\\n\\nIn 2007, Graham left his job at Y Combinator to pursue his passion for art and design. He started the Art20 organization, which focuses on supporting emerging artists and providing resources for creative projects.\\n\\nGraham is also known for his writing and public speaking skills. He\\'s authored several books, including \"The Hour Between Dog and Wolf\" (a memoir about his work at Y Combinator), and has given talks at conferences like TED and the Aspen Institute.\\n\\nThroughout his career, Graham has been recognized with numerous awards and honors, including being named one of Time Magazine\\'s 100 Most Influential People in the World.'"
      ]
     },
     "execution_count": 19,
     "metadata": {},
     "output_type": "execute_result"
    }
   ],
   "source": [
    "resp.text"
   ]
  },
  {
   "cell_type": "markdown",
   "metadata": {},
   "source": [
    "## VectorDB"
   ]
  },
  {
   "cell_type": "code",
   "execution_count": 4,
   "metadata": {},
   "outputs": [
    {
     "name": "stderr",
     "output_type": "stream",
     "text": [
      "USER_AGENT environment variable not set, consider setting it to identify your requests.\n"
     ]
    }
   ],
   "source": [
    "import bs4\n",
    "from langchain import hub\n",
    "from langchain_chroma import Chroma\n",
    "from langchain_community.document_loaders import WebBaseLoader\n",
    "from langchain_core.output_parsers import StrOutputParser\n",
    "from langchain_core.runnables import RunnablePassthrough\n",
    "from langchain_text_splitters import RecursiveCharacterTextSplitter\n",
    "from langchain_ollama.llms import OllamaLLM"
   ]
  },
  {
   "cell_type": "markdown",
   "metadata": {},
   "source": [
    "# Testes\n",
    "\n",
    "tgsc/sentence-transformer-ult5-pt-small\n",
    "sentence-transformers/paraphrase-multilingual-MiniLM-L12-v2\n",
    "BAAI/bge-small-en-v1.5"
   ]
  },
  {
   "cell_type": "code",
   "execution_count": 6,
   "metadata": {},
   "outputs": [],
   "source": [
    "from langchain_openai import OpenAIEmbeddings"
   ]
  },
  {
   "cell_type": "code",
   "execution_count": 1,
   "metadata": {},
   "outputs": [
    {
     "name": "stderr",
     "output_type": "stream",
     "text": [
      "USER_AGENT environment variable not set, consider setting it to identify your requests.\n",
      "Fetching pages: 100%|##########| 1/1 [00:00<00:00,  7.63it/s]\n"
     ]
    },
    {
     "data": {
      "text/plain": [
       "'  * Primeiros passos \\n  * Comece a vender \\n  * Soluções da Hotmart \\n  * Materiais gratuitos \\n  * Categorias _ _\\n\\n    * Marketing Digital \\n    * Empreendedorismo digital \\n    * Produção de conteúdo \\n    * Carreira no mundo digital \\n    * Afiliado \\n    * Produção de Vídeos \\n    * Capacitação para creators \\n    * Soluções da Hotmart \\n    * Primeiros passos \\n    * Comece a vender \\n\\n__\\n\\nBuscar\\n\\n_ _ pt-br\\n\\n  * Português - Brasil \\n\\nCadastre-se grátis\\n\\n  * Primeiros passos \\n  * Comece a vender \\n  * Solu'"
      ]
     },
     "execution_count": 1,
     "metadata": {},
     "output_type": "execute_result"
    }
   ],
   "source": [
    "from langchain_community.document_loaders import AsyncHtmlLoader\n",
    "from langchain_community.document_transformers import BeautifulSoupTransformer\n",
    "from langchain_community.document_transformers import Html2TextTransformer\n",
    "from langchain_community.embeddings import HuggingFaceBgeEmbeddings\n",
    "\n",
    "# embeddings = HuggingFaceBgeEmbeddings(\n",
    "#     model_name=\"BAAI/bge-small-en-v1.5\",  # alternatively use \"sentence-transformers/all-MiniLM-l6-v2\" for a light and faster experience.\n",
    "#     model_kwargs={'device':'cpu'}, \n",
    "#     encode_kwargs={'normalize_embeddings': True}\n",
    "# )\n",
    "\n",
    "loader = AsyncHtmlLoader([\"https://hotmart.com/pt-br/blog/como-funciona-hotmart\"])\n",
    "docs = loader.load()\n",
    "html2text = Html2TextTransformer()\n",
    "docs_transformed = html2text.transform_documents(docs)\n",
    "docs_transformed[0].page_content[0:500]"
   ]
  },
  {
   "cell_type": "code",
   "execution_count": 2,
   "metadata": {},
   "outputs": [
    {
     "name": "stdout",
     "output_type": "stream",
     "text": [
      "[Document(metadata={}, page_content='I want to use a langchain with a string instead of a txt file, is this possible?')]\n"
     ]
    }
   ],
   "source": [
    "from langchain.text_splitter import CharacterTextSplitter\n",
    "from langchain.schema.document import Document\n",
    "\n",
    "\n",
    "def get_text_chunks_langchain(text):\n",
    "    text_splitter = CharacterTextSplitter(chunk_size=500, chunk_overlap=100)\n",
    "    docs = [Document(page_content=x) for x in text_splitter.split_text(text)]\n",
    "    return docs\n",
    "\n",
    "\n",
    "def main():\n",
    "    text = \"I want to use a langchain with a string instead of a txt file, is this possible?\"\n",
    "    docs = get_text_chunks_langchain(text)\n",
    "    print(docs)\n",
    "\n",
    "\n",
    "main()"
   ]
  },
  {
   "cell_type": "code",
   "execution_count": 8,
   "metadata": {},
   "outputs": [
    {
     "data": {
      "text/plain": [
       "True"
      ]
     },
     "execution_count": 8,
     "metadata": {},
     "output_type": "execute_result"
    }
   ],
   "source": [
    "from dotenv import load_dotenv\n",
    "load_dotenv()"
   ]
  },
  {
   "cell_type": "code",
   "execution_count": 11,
   "metadata": {},
   "outputs": [],
   "source": [
    "import os"
   ]
  },
  {
   "cell_type": "code",
   "execution_count": 12,
   "metadata": {},
   "outputs": [],
   "source": [
    "openai_api_key = os.getenv('OPENAI_API_KEY')\n",
    "text_splitter = RecursiveCharacterTextSplitter(chunk_size=1000, chunk_overlap=200)\n",
    "splits = text_splitter.split_documents(docs_transformed)\n",
    "vectorstore = Chroma.from_documents(documents=splits, embedding=OpenAIEmbeddings(openai_api_key=openai_api_key,model=\"text-embedding-3-small\"),persist_directory=\"test/\")"
   ]
  },
  {
   "cell_type": "code",
   "execution_count": 56,
   "metadata": {},
   "outputs": [],
   "source": [
    "vectorstore = Chroma(embedding_function=OpenAIEmbeddings(), persist_directory=\"data/\")"
   ]
  },
  {
   "cell_type": "code",
   "execution_count": 14,
   "metadata": {},
   "outputs": [
    {
     "data": {
      "text/plain": [
       "[Document(metadata={'description': 'A Hotmart é uma plataforma grátis para você criar e vender cursos online, 100% fácil de usar e com ferramentas totalmente gratuitas', 'language': 'pt-br', 'source': 'https://hotmart.com/pt-br/blog/como-funciona-hotmart', 'title': 'O que é e como funciona a Hotmart?'}, page_content='Porém, o que oferecemos é muito mais do que um canal de hospedagem de conteúdo\\ndigital e uma forma de aquisição. A Hotmart é um ecossistema completo e em\\nconstante evolução para trazer ainda mais soluções para criar e escalar\\nnegócios digitais.\\n\\nDados mostram que, na Hotmart, creators faturam 35% mais, sem mexer no esforço\\noperacional.\\n\\nIsso graças ao rápido carregamento, alta taxa de aprovação, variedade de\\nformas de pagamento, usabilidade agradável e ferramentas específicas para\\naumentar as vendas, como o Order Bump e Funil de Vendas, por exemplo.\\n\\n**VÍDEO: Como funciona a Hotmart? Tudo que você precisa saber para vender na\\nHotmart!  \\n\\n**\\n\\n### **Quanto a Hotmart cobra por venda?**\\n\\nO cadastro e o uso da Hotmart são gratuitos. Você pode usar toda a estrutura\\npara criar os seus produtos e disponibilizá-los.\\n\\nPor aqui, **você só paga se vender.**'),\n",
       " Document(metadata={'description': 'A Hotmart é uma plataforma grátis para você criar e vender cursos online, 100% fácil de usar e com ferramentas totalmente gratuitas', 'language': 'pt-br', 'source': 'https://hotmart.com/pt-br/blog/como-funciona-hotmart', 'title': 'O que é e como funciona a Hotmart?'}, page_content='## Como vender com a Hotmart?\\n\\nO primeiro passo para vender com a Hotmart é fazer o cadastro gratuito.\\n\\nSe você quer criar seus produtos ou comunidade, o passo seguinte é justamente\\nfazer essa configuração na plataforma.\\n\\nPara quem busca um negócio online a partir da afiliação, depois do cadastro,\\nvocê deve passear pelo mercado de afiliação e conhecer melhor as suas opções.\\n\\nO blog está recheado de conteúdos para te ajudar nessas etapas.\\n\\nFeito isso, as vendas são com você: aposte em estratégias de marketing\\ndigital, construa uma audiência e divulgue os seus produtos como achar melhor,\\nsempre fazendo ajustes para vender mais.\\n\\nVocê pode monitorar tudo isso em sua página dentro da Hotmart. Lá, você tem\\nacesso a um Analytics que mostra a quantidade de vendas, o seu faturamento,\\nalém de dados valiosos e que fazem toda a diferença para o seu negócio online.\\n\\n## **Como funciona a automação de nota fiscal?**')]"
      ]
     },
     "execution_count": 14,
     "metadata": {},
     "output_type": "execute_result"
    }
   ],
   "source": [
    "vectorstore.similarity_search(\"Como vender com a hotmart?\",k=2)"
   ]
  },
  {
   "cell_type": "code",
   "execution_count": 32,
   "metadata": {},
   "outputs": [
    {
     "name": "stderr",
     "output_type": "stream",
     "text": [
      "/home/felipelangoniramos/Documents/desafio_hm/hot_env/lib/python3.10/site-packages/langsmith/client.py:354: LangSmithMissingAPIKeyWarning: API key must be provided when using hosted LangSmith API\n",
      "  warnings.warn(\n"
     ]
    }
   ],
   "source": [
    "retriever = vectorstore.as_retriever(k=2)\n",
    "prompt = hub.pull(\"rlm/rag-prompt\")\n",
    "\n",
    "llm = OllamaLLM(model=\"llama3.2:1b\")\n",
    "\n",
    "def format_docs(docs):\n",
    "    return \"\\n\\n\".join(doc.page_content for doc in docs)\n",
    "\n",
    "\n",
    "rag_chain = (\n",
    "    {\"context\": retriever | format_docs, \"question\": RunnablePassthrough()}\n",
    "    | prompt\n",
    "    | llm\n",
    "    | StrOutputParser()\n",
    ")\n",
    "\n"
   ]
  },
  {
   "cell_type": "code",
   "execution_count": 37,
   "metadata": {},
   "outputs": [
    {
     "data": {
      "text/plain": [
       "\"Human: You are an assistant for question-answering tasks. Use the following pieces of retrieved context to answer the question. If you don't know the answer, just say that you don't know. Use three sentences maximum and keep the answer concise.\\nQuestion: Como vender com a hotmart? \\nContext: ## Como vender com a Hotmart?\\n\\nO primeiro passo para vender com a Hotmart é fazer o cadastro gratuito.\\n\\nSe você quer criar seus produtos ou comunidade, o passo seguinte é justamente\\nfazer essa configuração na plataforma.\\n\\nPara quem busca um negócio online a partir da afiliação, depois do cadastro,\\nvocê deve passear pelo mercado de afiliação e conhecer melhor as suas opções.\\n\\nO blog está recheado de conteúdos para te ajudar nessas etapas.\\n\\nFeito isso, as vendas são com você: aposte em estratégias de marketing\\ndigital, construa uma audiência e divulgue os seus produtos como achar melhor,\\nsempre fazendo ajustes para vender mais.\\n\\nVocê pode monitorar tudo isso em sua página dentro da Hotmart. Lá, você tem\\nacesso a um Analytics que mostra a quantidade de vendas, o seu faturamento,\\nalém de dados valiosos e que fazem toda a diferença para o seu negócio online.\\n\\n## **Como funciona a automação de nota fiscal?** \\nAnswer:\""
      ]
     },
     "execution_count": 37,
     "metadata": {},
     "output_type": "execute_result"
    }
   ],
   "source": [
    "prompt.format(context=vectorstore.similarity_search(\"Como vender com a hotmart?\",k=2)[0].page_content, question=\"Como vender com a hotmart?\")"
   ]
  },
  {
   "cell_type": "code",
   "execution_count": 38,
   "metadata": {},
   "outputs": [],
   "source": [
    "def run(input):\n",
    "    return llm.invoke(prompt.format(context=vectorstore.similarity_search(input,k=2)[0].page_content, question=input))"
   ]
  },
  {
   "cell_type": "code",
   "execution_count": 39,
   "metadata": {},
   "outputs": [
    {
     "data": {
      "text/plain": [
       "'Para vender com a Hotmart, você precisa seguir os passos abaixo:\\n\\n1. Fazer o cadastro gratuito na plataforma.\\n2. Configurar seus produtos ou comunidade no site.\\n3. Monitorear todas as etapas em sua página para ajustar estratégias de marketing digital e aumentar vendas.\\n\\nSe tiver alguma dúvida sobre como funcionam essas etapas, sugiro procurar mais informações na plataforma.'"
      ]
     },
     "execution_count": 39,
     "metadata": {},
     "output_type": "execute_result"
    }
   ],
   "source": [
    "run(\"Como vender com a hotmart?\")"
   ]
  },
  {
   "cell_type": "code",
   "execution_count": 33,
   "metadata": {},
   "outputs": [
    {
     "data": {
      "text/plain": [
       "'A Hotmart é uma plataforma para venda de conteúdos digitais completa que oferece estratégias de marketing digital para criadores de conteúdo, produtores e afiliados. A plataforma permite que os usuários vendem produtos online e recebe comissões por cada venda realizada. Os produtores podem criar seus produtos ou comunidade na plataforma e os afiliados podem escolher entre centenas de produtos para promover e receber comissões por cada venda.'"
      ]
     },
     "execution_count": 33,
     "metadata": {},
     "output_type": "execute_result"
    }
   ],
   "source": [
    "rag_chain.invoke(\"Como vender com a hotmart?\")"
   ]
  },
  {
   "cell_type": "markdown",
   "metadata": {},
   "source": [
    "# Chunking Evaluation"
   ]
  },
  {
   "cell_type": "code",
   "execution_count": 15,
   "metadata": {},
   "outputs": [
    {
     "ename": "ModuleNotFoundError",
     "evalue": "No module named 'llama_index.evaluation'",
     "output_type": "error",
     "traceback": [
      "\u001b[0;31m---------------------------------------------------------------------------\u001b[0m",
      "\u001b[0;31mModuleNotFoundError\u001b[0m                       Traceback (most recent call last)",
      "Cell \u001b[0;32mIn[15], line 6\u001b[0m\n\u001b[1;32m      3\u001b[0m nest_asyncio\u001b[38;5;241m.\u001b[39mapply()\n\u001b[1;32m      5\u001b[0m \u001b[38;5;28;01mfrom\u001b[39;00m \u001b[38;5;21;01mllama_index\u001b[39;00m\u001b[38;5;21;01m.\u001b[39;00m\u001b[38;5;21;01mcore\u001b[39;00m \u001b[38;5;28;01mimport\u001b[39;00m VectorStoreIndex, SimpleDirectoryReader\n\u001b[0;32m----> 6\u001b[0m \u001b[38;5;28;01mfrom\u001b[39;00m \u001b[38;5;21;01mllama_index\u001b[39;00m\u001b[38;5;21;01m.\u001b[39;00m\u001b[38;5;21;01mevaluation\u001b[39;00m \u001b[38;5;28;01mimport\u001b[39;00m (\n\u001b[1;32m      7\u001b[0m     DatasetGenerator,\n\u001b[1;32m      8\u001b[0m     FaithfulnessEvaluator,\n\u001b[1;32m      9\u001b[0m     RelevancyEvaluator\n\u001b[1;32m     10\u001b[0m )\n\u001b[1;32m     13\u001b[0m \u001b[38;5;28;01mimport\u001b[39;00m \u001b[38;5;21;01mtime\u001b[39;00m\n",
      "\u001b[0;31mModuleNotFoundError\u001b[0m: No module named 'llama_index.evaluation'"
     ]
    }
   ],
   "source": [
    "import nest_asyncio\n",
    "\n",
    "nest_asyncio.apply()\n",
    "\n",
    "from llama_index.core import VectorStoreIndex, SimpleDirectoryReader\n",
    "from llama_index.core.evaluation import (\n",
    "    DatasetGenerator,\n",
    "    FaithfulnessEvaluator,\n",
    "    RelevancyEvaluator\n",
    ")\n",
    "\n",
    "\n",
    "import time"
   ]
  },
  {
   "cell_type": "code",
   "execution_count": 14,
   "metadata": {},
   "outputs": [
    {
     "name": "stderr",
     "output_type": "stream",
     "text": [
      "USER_AGENT environment variable not set, consider setting it to identify your requests.\n",
      "Fetching pages: 100%|##########| 1/1 [00:01<00:00,  1.19s/it]\n"
     ]
    }
   ],
   "source": [
    "from langchain_community.document_loaders import AsyncHtmlLoader\n",
    "from langchain_community.document_transformers import BeautifulSoupTransformer\n",
    "\n",
    "loader = AsyncHtmlLoader([\"https://hotmart.com/pt-br/blog/como-funciona-hotmart\"])\n",
    "docs = loader.load()"
   ]
  },
  {
   "cell_type": "code",
   "execution_count": 16,
   "metadata": {},
   "outputs": [
    {
     "data": {
      "text/plain": [
       "'  * Primeiros passos \\n  * Comece a vender \\n  * Soluções da Hotmart \\n  * Materiais gratuitos \\n  * Categorias _ _\\n\\n    * Marketing Digital \\n    * Empreendedorismo digital \\n    * Produção de conteúdo \\n    * Carreira no mundo digital \\n    * Afiliado \\n    * Produção de Vídeos \\n    * Capacitação para creators \\n    * Soluções da Hotmart \\n    * Primeiros passos \\n    * Comece a vender \\n\\n__\\n\\nBuscar\\n\\n_ _ pt-br\\n\\n  * Português - Brasil \\n\\nCadastre-se grátis\\n\\n  * Primeiros passos \\n  * Comece a vender \\n  * Solu'"
      ]
     },
     "execution_count": 16,
     "metadata": {},
     "output_type": "execute_result"
    }
   ],
   "source": [
    "from langchain_community.document_transformers import Html2TextTransformer\n",
    "\n",
    "html2text = Html2TextTransformer()\n",
    "docs_transformed = html2text.transform_documents(docs)\n",
    "docs_transformed[0].page_content[0:500]"
   ]
  },
  {
   "cell_type": "code",
   "execution_count": 17,
   "metadata": {},
   "outputs": [
    {
     "data": {
      "text/plain": [
       "[Document(metadata={'source': 'https://hotmart.com/pt-br/blog/como-funciona-hotmart', 'title': 'O que é e como funciona a Hotmart?', 'description': 'A Hotmart é uma plataforma grátis para você criar e vender cursos online, 100% fácil de usar e com ferramentas totalmente gratuitas', 'language': 'pt-br'}, page_content='  * Primeiros passos \\n  * Comece a vender \\n  * Soluções da Hotmart \\n  * Materiais gratuitos \\n  * Categorias _ _\\n\\n    * Marketing Digital \\n    * Empreendedorismo digital \\n    * Produção de conteúdo \\n    * Carreira no mundo digital \\n    * Afiliado \\n    * Produção de Vídeos \\n    * Capacitação para creators \\n    * Soluções da Hotmart \\n    * Primeiros passos \\n    * Comece a vender \\n\\n__\\n\\nBuscar\\n\\n_ _ pt-br\\n\\n  * Português - Brasil \\n\\nCadastre-se grátis\\n\\n  * Primeiros passos \\n  * Comece a vender \\n  * Soluções da Hotmart \\n  * Materiais gratuitos \\n  * Categorias _ _\\n\\n    * Marketing Digital \\n    * Empreendedorismo digital \\n    * Produção de conteúdo \\n    * Carreira no mundo digital \\n    * Afiliado \\n    * Produção de Vídeos \\n    * Capacitação para creators \\n    * Soluções da Hotmart \\n    * Primeiros passos \\n    * Comece a vender \\n\\nCadastre-se grátis\\n\\nEmpreendedorismo digital\\n\\n# O que é Hotmart e como funciona? DESCUBRA TUDO!\\n\\nSaiba de vez o que é a Hotmart e como ela te ajuda a ter sucesso no\\nempreendedorismo digital!\\n\\n01/02/2024 |  Por  Hotmart \\n\\n### O que veremos nesse post:\\n\\nÍndice\\n\\nO que é a Hotmart? Como funciona a Hotmart? O que são produtos digitais? Para\\nquem a Hotmart é indicada? O que são Produtores? O que são Afiliados?\\nVantagens de escolher a Hotmart Principais recursos da Hotmart Quais são as\\nformas de pagamento e como funciona o sistema de comissões na Hotmart? Como\\nvender com a Hotmart? Como funciona a automação de nota fiscal?\\n\\nA Hotmart é uma plataforma de distribuição e venda de produtos digitais.\\nFunciona permitindo que criadores vendam cursos, ebooks e outros conteúdos\\nonline. Os usuários podem criar uma loja virtual, receber pagamentos e acessar\\nferramentas para gerenciar seus negócios digitais.\\n\\nAfinal, **como funciona a Hotmart?** Quem começa a se aprofundar nas\\nalternativas que o marketing digital oferece no empreendedorismo vai ouvir\\nfalar na Hotmart.\\n\\nE aqui a gente te explica o que é, como funciona e como você pode trabalhar\\ncom a plataforma.\\n\\nVocê sabia que a **Hotmart** é uma empresa global de tecnologia que oferece\\numa plataforma para venda de conteúdos digitais completa e com a melhor\\nestrutura para criadores de conteúdo, Produtores, Afiliados, compradores e é\\nlíder de mercado em toda a América Latina?\\n\\nMas, para muito além de uma plataforma digital, somos uma empresa cuja missão\\né fazer o que for possível para que você viva das suas paixões. Seja criando\\num negócio digital e aumentando sua renda ou fazendo um curso online para\\naprender novas habilidades.\\n\\nE como fazemos isso? Juntando as três pontas do processo de venda online:\\n**Produtor, Afiliado e Comprador!**\\n\\nParece complicado, mas, na verdade, é muito simples.\\n\\nSe você quer trabalhar com vendas na internet ou fazer um curso online para\\nexpandir suas possibilidades, continue sua leitura para entender\\ndetalhadamente como a Hotmart funciona e por que ela é a sua escolha certa!\\n\\nVeja só o que você vai aprender neste post:\\n\\n### Na Hotmart, você vende 35% mais!\\n\\nComece gratuitamente\\n\\n## **O que é a Hotmart e como ela funciona?**\\n\\n**A Hotmart é uma empresa global de tecnologia e educação, líder no mercado de\\nprodutos digitais** , com sede em Amsterdã, nos Países Baixos (Holanda), e\\nescritórios no Brasil, Espanha, Colômbia, México, Estados Unidos, Reino Unido\\ne México.\\n\\nContamos com soluções completas para Produtores, Afiliados e alunos. **São\\nmais de 580 mil produtos cadastrados, 35 milhões de usuários e vendas\\nrealizadas em mais de 188 países**.\\n\\nE tudo começou quando João Pedro Resende e Mateus Bicalho se uniram para criar\\numa solução para quem quisesse vender produtos digitais. Na época, JP tinha\\ncriado um ebook sobre estratégia de marketing digital para gamers e encontrou\\ndiversos desafios para disponibilizar esse conteúdo online.\\n\\nCom isso, os sócios começaram a trabalhar nesta solução no tempo livre,\\nfizeram um MVP e colocaram no ar, até que conseguiram realizar as primeiras\\nvendas pela plataforma. Então passaram a se dedicar integralmente ao negócio.\\nEm 2011, a Hotmart foi fudada!\\n\\nA maior missão é possibilitar que todos possam viver de suas paixões,\\ncompartilhando conhecimento e ajudando no crescimento profissional e pessoal\\nde outras pessoas. Afinal, **acreditamos que aprender muda tudo**.\\n\\n> \"A gente quer cada vez mais fazer um caminho de onde a gente está saindo de\\n> um contexto de plataforma pra se transformar num ecossistema. No\\n> ecossistema, a grande diferença é que tem mais serviços em torno de um\\n> serviço ou de um público inicial, vamos dizer assim\", revelou João Pedro\\n> Resende, CEO e co-fundador da Hotmart.\\n\\nA Hotmart ainda oferece ferramentas e soluções que ajudam na hospedagem,\\ndivulgação e venda de produtos digitais. Dessa maneira, qualquer pessoa pode\\ncriar ou levar seu negócio para a internet, ampliando as suas possibilidades.\\n\\n## Como funciona a Hotmart?\\n\\nA Hotmart é uma plataforma de infoprodutos, que oferece diferentes recursos e\\nsoluções para quem quer vender e comprar produtos digitais na internet.\\n\\nDe maneira resumida, a Hotmart funciona da seguinte maneira:\\n\\n  1. Uma pessoa com conhecimento em determinada área cria um infoproduto (como um curso online ou um ebook) para compartilhar sua habilidade com o mundo.\\n  2. Pessoas com um bom relacionamento e facilidade em fazer vendas ajudam a divulgar e a vender esse produto para o consumidor em troca de uma comissão por venda realizada.\\n  3. O consumidor que está em busca de um novo conhecimento pode comprar o produto em nossa plataforma, pesquisando na página de busca ou seguindo o Link de Divulgação (Hotlink) do Afiliado ou do Produtor.\\n\\nEm outras palavras, a Hotmart oferece uma plataforma EAD que hospeda cursos\\nonline e processa todos os pagamentos online em um só lugar, além de oferecer\\nsoluções que ajudam a escalar negócios digitais.\\n\\nPorém, o que oferecemos é muito mais do que um canal de hospedagem de conteúdo\\ndigital e uma forma de aquisição. A Hotmart é um ecossistema completo e em\\nconstante evolução para trazer ainda mais soluções para criar e escalar\\nnegócios digitais.\\n\\nDados mostram que, na Hotmart, creators faturam 35% mais, sem mexer no esforço\\noperacional.\\n\\nIsso graças ao rápido carregamento, alta taxa de aprovação, variedade de\\nformas de pagamento, usabilidade agradável e ferramentas específicas para\\naumentar as vendas, como o Order Bump e Funil de Vendas, por exemplo.\\n\\n**VÍDEO: Como funciona a Hotmart? Tudo que você precisa saber para vender na\\nHotmart!  \\n\\n**\\n\\n### **Quanto a Hotmart cobra por venda?**\\n\\nO cadastro e o uso da Hotmart são gratuitos. Você pode usar toda a estrutura\\npara criar os seus produtos e disponibilizá-los.\\n\\nPor aqui, **você só paga se vender.**\\n\\nFunciona como uma comissão paga à plataforma, uma taxa por venda realizada que\\ndepende do preço do produto e da moeda em que a venda foi realizada.\\n\\nConfira abaixo:\\n\\nSendo assim, para quem vende produtos acima de R$ 10, no Brasil, tem a taxa\\ncorrespondente a 9.9% do preço do produto + R$ 1 por venda.\\n\\nEntão, no caso de um Produtor que vende na Hotmart sozinho, sem Afiliados,\\nficaria assim:\\n\\nVocê pode se aprofundar sobre os preços da Hotmart neste blog post.\\n\\n## **O que são produtos digitais?**\\n\\nAntes de saber o que são Produtores e Afiliados e qual é a opção ideal para\\nvocê, é preciso saber o que são produtos digitais.\\n\\n**Produtos digitais são materiais, em sua maioria educacionais, que são\\nproduzidos em formato digital e distribuídos na internet**.\\n\\nCursos online, videoaulas e ebooks são alguns exemplos de produtos digitais,\\nmas existe uma infinidade de possibilidades.\\n\\nEles se tornaram muito populares entre os consumidores por oferecerem a\\npossibilidade de aprender sobre diversos assuntos sem precisar sair de casa.\\nOu seja, **é um formato de conteúdo acessível, prático e que vem cada vez mais\\nganhando espaço no mercado atual**.\\n\\nE são uma grande oportunidade para empreendedores por causa de seu alcance\\ngeográfico e, principalmente, porque neste modelo de negócio é possível\\nescalar seus lucros.\\n\\nMas como isso funciona, exatamente?\\n\\nUma pessoa que mora no Japão pode comprar seu curso online agora e ter acesso\\na ele sem precisar que nenhum dos dois tenha que se locomover para isso.\\nEnquanto ela acessa seu produto digital, outro comprador pode estar fazendo\\nisto em outro lugar do mundo.\\n\\nEm poucas palavras, um modelo de negócio escalável é aquele que possui\\ncapacidade de aumentar seu faturamento exponencialmente, sem precisar elevar\\nseus custos na mesma proporção.\\n\\nComo o seu produto é 100% digital, você não precisa produzir um novo curso do\\nzero toda vez que uma nova pessoa fecha negócio com você. Com apenas um único\\nproduto, você consegue fazer milhares de vendas!\\n\\n>  \\n>\\n> Ver essa foto no Instagram\\n>\\n>  \\n>\\n> Uma publicação compartilhada por Hotmart Brasil (@hotmart)\\n\\n## **Hotmart também é a solução para produtos físicos**\\n\\nAgora é possível vender produtos físicos na Hotmart, aproveitando o mesmo\\ncheckout para oferecer os dois formatos.\\n\\nCom essa novidade, você pode criar estratégias integradas para vender seus\\nprodutos digitais e físicos no mesmo ambiente e aproveitando as mesmas\\nferramentas.\\n\\nAssim, fica mais fácil, caso queira complementar a sua oferta com apostilas,\\nlivros, garrafinhas, canecas, tapetes de exercícios, conjunto de materiais e o\\nque for mais interessante para o seu público!\\n\\nEstamos disponibilizando o cadastro de produtos físicos na Hotmart aos poucos\\npara nossos clientes. Se essa opção ainda não está visível para você,\\ncadastre-se em nossa lista de interesse aqui para que possamos avaliar seu\\nproduto com prioridade.\\n\\n## Para quem a Hotmart é indicada?\\n\\nComo você já viu até aqui, a Hotmart é a solução ideal para quem procura\\nsucesso em negócios digitais.\\n\\nQualquer um pode investir no empreendedorismo digital e passar a viver de\\ninternet. Alguns exemplos são:\\n\\n  * **Quem quer monetizar seu próprio conhecimento:** qualquer conteúdo pode ser transformado em negócio. Basta passear pelo marketplace da Hotmart. Você vai encontrar infoprodutos dos mais diferentes nichos, de agronegócios a idiomas, passando por artesanato e conserto de eletrodomésticos.\\n  * **Trabalhar com marketing digital:** um modelo de negócio bastante popular é ter uma pessoa responsável pelo conteúdo dos produtos digitais e outra focada no lançamento. Aqui, estão envolvidas diferentes habilidades, como tráfego pago, SEO, gestão de redes sociais e o próprio lançamento. Na Hotmart, você pode cadastrar todas as pessoas envolvidas em um infoproduto e o percentual de suas participações e as comissões são divididas automaticamente.\\n  * **Influenciadores digitais e creators de redes** **sociais:** quem já trabalha com conteúdo em social pode usar a Hotmart para monetizar e ter maior controle da receita que gera - dependendo menos de publis. Por aqui, esses profissionais podem criar comunidades pagas, infoprodutos ou vender os produtos de terceiros como Afiliados, aproveitando sua autoridade e audiência para vender mais.\\n  * **Vendedores online:** seja um especialista em tráfego pago ou alguém construindo um negócio online, mas que não quer criar um produto digital, há a opção de trabalhar com afiliação.\\n\\nViu só como a Hotmart funciona para diferentes perfis?\\n\\nA seguir, vamos falar mais sobre os papeis mais tradicionais nessa mecânica, o\\nProdutor de conteúdo e o Afiliado.\\n\\n## **O que são Produtores?**\\n\\nAgora que você já entendeu o que é um produto digital, está na hora de\\ndescobrir como você se encaixa nesse mercado.\\n\\nExistem, basicamente, dois tipos de pessoas que atuam nessa área, os\\nProdutores e os Afiliados.\\n\\n**Os Produtores são pessoas que desejam criar algum tipo de conteúdo digital\\npara ser vendido na internet.**\\n\\nO Produtor de conteúdo digital pode ser um autor independente, blogueiro ou\\napenas alguém que domina um determinado assunto e decidiu criar um produto\\npara atuar como professor online e compartilhar seu conhecimento com o mundo.\\n\\n> \"O trabalho de um infoprodutor não é simples ou fácil como pode parecer. Pra\\n> ter sucesso, é necessário trabalhar muito na produção do conteúdo e ter boas\\n> estratégias de marketing pra promover o produto\", alerta Andresa de\\n> Carvalho, diretora de marketing da Hotmart.\\n\\n### **Quem pode se tornar um Produtor digital?**\\n\\nPode parecer clichê, mas a verdade é que **qualquer pessoa pode se tornar um\\nProdutor digital** - basta que ela tenha como produzir seu material e saiba\\nusar a internet.\\n\\nO diferencial para alcançar o êxito está na persistência do empreendedor e na\\nvontade que ele tem de aprender com o próprio negócio.\\n\\n### **Tipos de produtos digitais**\\n\\nAtualmente, na Hotmart, é possível comercializar variados tipos de conteúdo\\ndigital:\\n\\n  * Ebooks em PDF ou EPUB;\\n  * Documentos diversos (.doc, .rtf), audiobooks e músicas (mp3, wma);\\n  * Videoaulas;\\n  * Palestras e screencasts (MPEG, FLV, MOV, WMV);\\n  * Software (.exe, .msi);\\n  * Imagens;\\n  * Podcasts;\\n  * Scripts e quaisquer outros formatos de arquivo que possam ser baixados pela internet.\\n\\nÉ possível também fazer uma **adesão para sites de membros:** clubes de\\nassinaturas privados, sites de conteúdo restrito a membros, coaching clubs ou\\nqualquer tipo de produto em que o comprador paga uma taxa de adesão ou recebe\\numa cobrança periodicamente.\\n\\nNesse caso, se o Produtor quiser, poderá integrar o sistema de cadastros em\\nseu site com a plataforma Hotmart, hospedando seu curso online no Hotmart\\nClub.\\n\\n> \"A gente quer atender outros tipos de creator também, a gente quer oferecer\\n> serviços que ajudem os nossos creators a alcançar seus objetivos mais\\n> rápido. Seja com software, seja com gente, seja com enfim, com o que for. E\\n> acho que todo criador de conteúdo que decidir construir disso um negócio pra\\n> vida dele, ele vai olhar pra Hotmart como um grande parceiro pra ajudar com\\n> muitas coisas. Desde a parte financeira, até a parte de vendas, até a parte\\n> de entrega, até a parte de gestão da empresa, dos clientes, enfim…\", contou\\n> o CEO da empresa.\\n\\n### Tipos de produtos físicos\\n\\nEssa é uma novidade que está em fase de implementação, como você viu acima.\\n\\nMas, separamos aqui algumas ideias de produtos físicos para você vender como\\ncomplemento, pensando em diferentes nichos:\\n\\n  * Livros;\\n  * Apostilas;\\n  * Jogos educativos;\\n  * Moldes de costura;\\n  * Produtos de branding (caneca, garrafinha, caderno…);\\n  * Tapete para prática esportiva;\\n  * Conjunto de pincéis, tintas e telas;\\n  * Planners de gestão empresarial ou financeira;\\n  * Modelo de mapa dos sonhos impresso;\\n  * E muito mais!\\n\\nDe fato, são muitas opções! Aproveitar esse formato pode fazer toda a\\ndiferença para o sucesso do seu negócio online.\\n\\n**VÍDEO: Lançamentos da Hotmart com IA | JP Resende | Além do FIRE  \\n**\\n\\n## **O que são Afiliados?**\\n\\nBem diferente dos Produtores, **os Afiliados são pessoas que ajudam a divulgar\\nprodutos de terceiros na internet**.\\n\\nAo se tornar um Afiliado na Hotmart, você tem a opção de escolher entre\\ncentenas de produtos para promover dentro de nossa plataforma, e recebe\\ncomissões por cada venda realizada.\\n\\nFazer marketing de Afiliados na Hotmart possui diversas vantagens, como:\\n\\n  * Você **não precisa ter um produto próprio** para começar a vender;\\n  * Por não ter um produto seu, você**não precisa lidar diretamente com o Comprado** r (isto será feito pelo Produtor responsável pelo produto);\\n  * Você não precisa ter um site de antemão (apesar de ser altamente recomendável)**, podendo** divulgar o produto em outros meios como redes sociais, por exemplo;\\n  * Todas **as comissões de vendas são processadas automaticamente pela Hotmart** no momento da venda. Portanto, exceto nos casos previstos nos Termos de Uso, não há risco de você não receber a comissão por uma venda realizada;\\n  * **Nossos Afiliados podem escolher entre centenas de produtos** , de diferentes nichos, para se afiliar e, dependendo do produto, podem ganhar até 80% do valor do produto em comissão.\\n\\nSe você não possui um produto, trabalhar como Afiliado é a maneira mais rápida\\nde começar a gerar resultados financeiros para seu site ou seu perfil nas\\nredes sociais.\\n\\nÉ importante lembrar que existem algumas práticas proibidas no mercado de\\nAfiliados, como a divulgação de SPAM, a venda de promessas inalcançáveis e o\\nuso equivocado de ferramentas. Essas práticas podem, inclusive, levar ao\\nbloqueio da conta na Hotmart. Se você quer saber mais sobre o assunto, confira\\nnosso manual de boas práticas para Produtores e Afiliados.\\n\\nSe você acredita que um usuário está infringindo nossos Termos de Uso, poderá\\ndenunciá-lo. A Hotmart conta com um canal de atendimento em que é possível\\nreportar violações de direitos e outras irregularidades, inclusive infrações\\naos nossos Termos de Uso. Você pode acessar o nosso canal de atendimento\\nclicando aqui.\\n\\nFicou interessado por esse assunto? Saiba mais sobre o Programa de Afiliados\\nHotmart e conheça também os tipos de Afiliados que você pode ser.\\n\\n****VÍDEO: PRIMEIRA VENDA COMO AFILIADO: como Afiliados podem fazer a PRIMEIRA\\nVENDA na Hotmart?  \\n\\n****\\n\\n## **Vantagens de escolher a Hotmart**\\n\\nA Hotmart é líder em seu segmento porque privilegia a experiência de todas as\\npessoas envolvidas no processo de vendas.\\n\\n**Com ferramentas criadas para automatizar os processos de publicação,\\ndistribuição e pagamento, nossos Produtores conseguem focar no que realmente\\nimporta: desenvolver um produto de qualidade e criar um relacionamento mais\\npróximo com seus clientes reais e em potencial.**\\n\\nAlém disso, com a ajuda da Hotmart, você não precisa contratar especialistas\\npara desenvolver ou configurar sistemas complexos.\\n\\nSimplificamos tudo para você preocupar-se apenas com a qualidade de seu\\nconteúdo, a definição de seu horário de trabalho e quais as técnicas\\nutilizadas para divulgar seus produtos.\\n\\nSão diferenciais de nossa plataforma:\\n\\n  * Oferecer toda **infraestrutura de armazenamento** com segurança;\\n  * Possuir uma **solução exclusiva para pagamentos online** — inclusive pagamentos internacionais;\\n  * Realizar **entrega automatizada dos conteúdos** aos Compradores;\\n  * **Distribuir e pagar comissões** de parceiros de divulgação (Afiliados) automaticamente;\\n  * **Disponibilizar diversas ferramentas e relatórios** para administrar suas vendas e produtos;\\n  * Oferecer **opções avançadas para configurar suapágina de vendas** de acordo com os interesses de seu Comprador.\\n\\nPara os **alunos** , o foco é em uma **experiência de aprendizado completa e\\nde alta qualidade** , com diversos recursos que possibilitam com que eles\\ntambém sejam protagonistas.\\n\\nSão diferenciais do nosso ambiente virtual de aprendizagem:\\n\\n  * **Player próprio** , com resolução otimizada de acordo com a velocidade da conexão do usuário;\\n  * **Anotações nos vídeos** para melhorar o processo de estudo;\\n  * **Acesso a materiais complementares** (vídeos, PDFs), caso o Produtor os insira;\\n  * Usar as **notas do Produtor** para também melhorar o processo de estudo;\\n  * Participar de **comunidades exclusivas no app** **Hotmart** , caso o Produtor tenha;\\n  * Acesso a um espaço em que pode deixar dúvidas e receber a resposta do Produtor.\\n  * **Legendas** em diversos idiomas;\\n  * Assistir à aula pelo celular ou TV;\\n  * **Assistir à aula offline ou online** usando o Hotmart;\\n  * Compartilhar o certificado, se o curso tiver;\\n  * Receber notificações do curso pelo app Hotmart.\\n\\n## ******Principais recursos da Hotmart**\\n\\n### **Sistema de Pagamentos**\\n\\nNós dissemos que iríamos falar um pouco mais sobre nosso sistema exclusivo de\\npagamentos, não é?\\n\\nCom milhões de transações realizadas no mundo todo, com total segurança, o\\nSistema de Pagamentos desenvolvido pela Hotmart ajuda a aumentar as conversões\\ndos Produtores digitais.\\n\\nUma das grandes vantagens da ferramenta é que ela permite que você faça vendas\\nem todo o mundo: em qualquer país, em mais de 20 moedas internacionais e com\\nmeios de pagamento próprios de cada região. Basta escolher o preço do produto\\ne o checkout da Hotmart é responsável por converter automaticamente o valor\\npara a moeda do país de seu Comprador.\\n\\nE as vantagens são inúmeras. Com ele, você tem autonomia e segurança para\\nefetuar a venda de seu produto digital no mundo todo e vai receber seus\\nvalores em sua moeda local, sem outros intermediários do início ao fim da\\ntransação.\\n\\nUtilizando o Sistema de Pagamentos, seus compradores podem adquirir seu\\nproduto em várias opções de pagamentos:\\n\\n#### **Cartão de crédito**\\n\\nDe cara, o comprador já tem uma grande vantagem: a compra e parcelamento\\nindividual em 2 cartões. Se optarem por parcelar, há uma taxa de parcelamento.\\n\\nVocê, como Produtor ou Afiliado, deve dar a opção de cartão de crédito como\\nforma de pagamento sendo que, no parcelamento, será cobrada uma taxa de\\nparcelamento. Confira aqui as principais informações sobre as modalidades de\\nparcelamento disponíveis.\\n\\n_A Hotmart também possibilita o pagamento em cartão de crédito via PayPal._\\n\\n#### **Débito online**\\n\\nVocê também pode oferecer débito online como uma opção para seus clientes.\\n\\nFunciona assim: ao realizar uma compra, o débito online funciona como uma\\ntransferência online. Nesse caso, essa deve ser uma compra à vista.\\n\\n#### **Boleto bancário**\\n\\nNão acabou não!\\n\\nBoleto bancário, que você já bem deve conhecer, também é uma opção\\ndisponibilizada pela Hotmart. As vantagens, nesse caso, é que não existe\\ncobrança de taxa extra ao Comprador (a quantia é disponibilizada em sua conta\\ndepois da compensação bancária do documento em até 96 horas úteis).\\n\\nDiante de tantas opções de pagamentos, você também conta com incontáveis\\nrecursos para fazer seu produto vender mais, e um deles permite que você não\\nsó aumente suas conversões, mas ofereça a melhor experiência aos seus\\nCompradores.\\n\\nComo você viu, é possível usar cartões de crédito, PayPal e métodos de\\npagamento locais. Você não precisa se preocupar, porque a Hotmart é\\nresponsável pela faturação do cliente final.\\n\\n### **Checkout Customizável**\\n\\nChega de desembolsar com a contratação de programadores ou designers para ter\\nseu checkout com a cara de seu produto digital.\\n\\nCom a nossa opção de Checkout Personalizável, você conta com a ferramenta\\nideal para transformar suas páginas de pagamento e reforçar a identidade\\nvisual de seu produto. Você pode criar um checkout customizável e aumentar\\nsuas conversões.\\n\\nA ferramenta viabiliza que você tenha mais chances de quebrar as objeções de\\nseus clientes, afirmar sua identidade visual e ajudar seu Afiliado.\\n\\nCom o checkout customizável, você pode inserir o logotipo de seu produto,\\nvídeos, imagens, textos e widgets, bem como personalizar as cores e a\\nestrutura da página. Outra vantagem é escolher entre várias opções de\\ntemplates, que estão prontas para serem usadas.\\n\\nVocê também pode:\\n\\n  * Criar diferentes checkouts com elementos distintos para a versão smartphone e desktop;\\n  * Utilizar imagens e vídeos que reforcem a segurança e confiança de seu Comprador;\\n  * Acelerar suas conversões fazendo testes com diferentes versões de checkouts.\\n\\nÉ isso mesmo, você fará de seu formulário de pagamento uma ferramenta incrível\\nde vendas, sem pagar absolutamente nada. É grátis e ilimitada!\\n\\nNesse momento, você deve estar se perguntando: “eu tenho que pagar por todos\\nesses serviços que vocês estão oferecendo?”. E a resposta é: não!\\n\\nA Hotmart é uma plataforma gratuita! A única cobrança que fazemos para nosso\\nusuário é de 9,9% do valor por cada venda realizada, ou seja, se você não\\nfizer uma venda, nunca precisará pagar nada para usar nosso serviço.\\n\\nPor isso, incentivamos todos nossos Produtores e Afiliados, entregando\\nfuncionalidades e conteúdos que os ajudem a realizar vendas e ter uma renda\\nfazendo algo que eles realmente gostem.\\n\\nE quando falamos em entregas, é porque nós fazemos de tudo para deixar sua\\nexperiência como usuário mais fácil e descomplicada. Por isso, se você ainda\\nnão conhece nosso app, já passou da hora de baixá-lo e ter seu negócio digital\\nsempre com você.\\n\\n### **Área de Membros**\\n\\n**O Hotmart Club é umaárea de membros gratuita, ilimitada**, preparada para\\naumentar suas vendas e entregar seus conteúdos de forma automática, e assim\\ncomo em todos os serviços oferecidos pela Hotmart, sem taxa de adesão, sem\\nmensalidade e sem integrações complicadas.\\n\\nCom um nome de usuário e senha, os alunos que compram os cursos online têm\\nacesso a um espaço onde encontram todos os materiais disponibilizados pelo\\nProdutor, como videoaulas, quizzes e outros tipos de materiais.\\n\\n**O Hotmart Club possui um player próprio** que foi desenvolvido para evitar\\nque o conteúdo seja replicado para pessoas que não adquiriram o curso.\\n\\nAlém disso, existem outras vantagens, tais como:\\n\\n  * Conteúdo separado por módulos;\\n  * Espaço para comentários;\\n  * Credenciamento para estudantes;\\n  * Suporte ao Comprador;\\n  * Customização de design e muito mais.\\n\\nO Hotmart Club ainda contribui para a fidelização dos clientes, a garantia de\\nganhos recorrentes e melhora a rotina operacional.\\n\\nDescubra uma nova forma de entregar seus produtos digitais, conheça o Hotmart\\nClub e veja como é a maneira mais fácil de criar uma área de membros e vender\\nmuito mais.\\n\\nMas o Club não funciona apenas para entregar seu conteúdo. Você pode\\nmultiplicar suas vendas e garantir a melhor experiência de aprendizado aos\\nseus estudantes com três ferramentas incríveis que só o Club tem. Além disso,\\nelas também são 100% gratuitas. Vamos a elas:\\n\\n#### **Potencialize suas vendas na Área de Membros**\\n\\nSabe aquela frase que diz que é preciso “estar no lugar certo, na hora certa”?\\n\\nÉ isso que o **Club Sales** dá a você e a seus alunos. Você pode criar ofertas\\nespeciais para os estudantes, inserindo páginas de anúncios na própria área de\\nmembros, enquanto eles assistem às aulas, sem que precisem sair da área de\\nmembros ou necessitem buscar em outro lugar na internet.\\n\\nOu seja, conteúdo relevante que enriquece a experiência de quem assiste a seus\\nmateriais, no momento que eles mais precisam.\\n\\nAlém disso, você também conta com um grupo de pessoas que já comprou seu\\nproduto digital e confiam nele — logo, aumentando significativamente as\\nchances de vender mais.\\n\\nVocê tem dúvidas de que suas conversões têm grande potencial de aumentar?\\n\\nQuer saber como configurar o Club Sales no Hotmart Club? Clique aqui!\\n\\n#### **Seus clientes podem comprar com apenas 1 clique**\\n\\nA segunda ferramenta que impulsiona suas conversões no Club também é conhecida\\npor muitos como _One-Click Buy_. A **Compra com 1 Clique** facilita o\\npagamento de seus clientes, diminuindo o tempo de cadastro de dados e,\\nportanto, aumentando as chances de chegar ao final da compra.\\n\\nQuando seus estudantes adquiriram seu curso, eles cadastraram seus dados e\\nusaram uma forma de pagamento, com as informações de um cartão de crédito, por\\nexemplo.\\n\\nDepois de já comprarem o curso, todos poderão adquirir novos conteúdos com\\napenas um clique, sem o preenchimento de novas informações.\\n\\nDuas vantagens nota 10:\\n\\n  * Produtores fidelizam alunos com outros produtos utilizando essa opção;\\n  * Altíssimo nível de segurança no armazenamento e utilização dos dados dos alunos.\\n\\nOs dados de compra já estão guardados com total segurança no Hotmart Club. É\\nsó reutilizá-los para novas compras, sem passar pelo carrinho de compras, pelo\\npreenchimento dos dados ou ter um cartão por perto, entendido?\\n\\n#### **Organize suasturmas de alunos com mais agilidade**\\n\\nA terceira ferramenta é um passo à frente quando o assunto é a experiência dos\\nestudantes. Organizar seus alunos não tem mistério e ainda apresenta uma\\nvantagem imperdível, já que você pode criar e segmentar a experiência de seus\\nalunos, **gerenciando os estudantes por grupos**.\\n\\nAssim, você possibilita que pessoas que estão no mesmo nível evoluam juntas.\\n\\nOutra “carta na manga” é que você também pode fazer ofertas focadas nas\\nnecessidades dos alunos — com total flexibilidade para alterar o conteúdo do\\ncurso e direcionar o melhor anúncio para cada um dos perfis de estudantes.\\nLegal, não é?\\n\\n_Quer saber como criar uma área de membros que gere lucro? Nosso ambiente com\\naulas práticas é perfeito para você. Conheça o Club na Prática, e construa sua\\nprópria plataforma vendedora!**Acesse aqui**._\\n\\n### **HotLeads**\\n\\nO HotLeads é uma ferramenta que permite rastrear leads e vinculá-los a\\nAfiliados de forma segura, garantindo que eles recebam suas comissões\\ncorretamente.\\n\\nAlém disso, permite extrair informações estratégicas sobre potenciais\\nclientes, como país de origem, dispositivo e navegador usados, o que\\npossibilita direcionar as campanhas considerando as características de seus\\nleads.\\n\\nEssa ferramenta também apresenta relatórios de leads e Afiliados em tempo\\nreal, o que permite ao Produtor digital criar estratégias baseadas em dados\\nvaliosos.\\n\\nOs HotLeads podem ser integrados nas principais ferramentas de e-mail\\nmarketing, como Aweber, Mailchimp e Mautic.\\n\\n### **Gestão Automática de Contatos (Listboss)**\\n\\nGestão Automática de Contatos (Listboss) é a ferramenta perfeita para\\nsegmentar suas listas de e-mail de acordo com as ações de seus clientes ou\\npotenciais Compradores no momento da compra.\\n\\nAlgumas das principais segmentações para melhorar as vendas são a recuperação\\ndas compras canceladas e dos carrinhos abandonados. Além disso, também é\\npossível organizar seus contatos considerando outros tipos de ações, como a\\navaliação feita de seu produto.\\n\\nDe acordo com estudos internos, os Produtores digitais que utilizam a Gestão\\nAutomática de Contatos (Listboss) fazem até 8 vezes mais vendas online do que\\naqueles que não, estruturando o funil de forma organizada e com conteúdo\\nrelevante.\\n\\nA Gestão Automática de Contatos (Listboss) pode ser integrado a diferentes\\nprovedores de e-mail, como o Hotmart Send, Mailchimp, ActiveCampaign,\\nGetResponse, Infusionsoft, entre outros.\\n\\n### **Funil de vendas**\\n\\nO funil de vendas da Hotmart permite que você acompanhe seus clientes em todas\\nas etapas do processo de vendas, desde o conhecimento de seu produto até a\\ndecisão da compra.\\n\\nA ferramenta permite que você tenha um processo de vendas mais claro e\\ndesenvolva estratégias eficientes para aumentar suas conversões.\\n\\n### **Extensões da Hotmart**\\n\\n**As****Extensões da Hotmart****são recursos e soluções pensados para ajudar a\\nalavancar negócios digitais**.\\n\\nAlém de tudo o que a plataforma Hotmart já oferece, com as Extensões você\\npode:\\n\\n  * **Construir e editar****páginas de vendas** do zero, com poucos cliques;\\n  * **Criar e disparar campanhas de****email marketing** em poucos minutos;\\n  * **Realizar vendas em****transmissões ao vivo** para potenciais Compradores.\\n\\nE o melhor: **tudo isso em um só lugar e com total integração com a Hotmart**!\\n\\n## Quais são as formas de pagamento e como funciona o sistema de comissões na\\nHotmart?\\n\\nComo você pôde ver até aqui, a Hotmart é diferente, pois oferece tudo para que\\na venda seja feita.\\n\\nNo meio disso, estão as formas de pagamento - é muita flexibilidade:**são mais\\nde 40 métodos de pagamento e em 22 moedas diferentes**.\\n\\nOs seus clientes podem comprar os seus produtos no cartão de crédito, boleto,\\nPix, PayPal, além de métodos locais de outros países.\\n\\nAlém disso, é possível que a compra seja parcelada, de acordo com configuração\\nfeita pelo criador do produto.\\n\\nMesmo no caso de falta de limite de cartão, os recuperadores de venda podem te\\najudar, transformando o parcelamento em uma compra recorrente.\\n\\nSobre os sistema de comissões, ele acontece de forma automática.\\n\\nQuando um Produtor de conteúdo publica o seu infoproduto e abre para\\nafiliação, **é ele quem decide o percentual que o Afiliado terá direito ao\\nfazer as vendas.**\\n\\nSendo assim, sempre que uma transação for feita a partir de um link de\\nAfiliado, ele recebe a sua comissão automaticamente o Produtor acompanha todo\\nesse processo.\\n\\nSe o produto foi feito no modelo de coprodução, com mais de um profissional\\nenvolvido, essa divisão também acontece automaticamente, de acordo com o que\\nfoi configurado de percentual para cada coprodutor.\\n\\n## Como vender com a Hotmart?\\n\\nO primeiro passo para vender com a Hotmart é fazer o cadastro gratuito.\\n\\nSe você quer criar seus produtos ou comunidade, o passo seguinte é justamente\\nfazer essa configuração na plataforma.\\n\\nPara quem busca um negócio online a partir da afiliação, depois do cadastro,\\nvocê deve passear pelo mercado de afiliação e conhecer melhor as suas opções.\\n\\nO blog está recheado de conteúdos para te ajudar nessas etapas.\\n\\nFeito isso, as vendas são com você: aposte em estratégias de marketing\\ndigital, construa uma audiência e divulgue os seus produtos como achar melhor,\\nsempre fazendo ajustes para vender mais.\\n\\nVocê pode monitorar tudo isso em sua página dentro da Hotmart. Lá, você tem\\nacesso a um Analytics que mostra a quantidade de vendas, o seu faturamento,\\nalém de dados valiosos e que fazem toda a diferença para o seu negócio online.\\n\\n## **Como funciona a automação de nota fiscal?**\\n\\nPara negócios digitais, a emissão de notas fiscais por venda feita é um dever\\ndo empreendedor.\\n\\nA nota fiscal tem a função de certificar que foi realizada uma transação\\ncomercial, seja para produtos ou serviços.\\n\\nPortanto, é responsabilidade do Produtor garantir a emissão de notas fiscais\\npara cada venda feita, mesmo quando feita por um Afiliado.\\n\\nNo caso de Afiliados, o Produtor emite a NF ao comprador e o Afiliado ao\\nprodutor, como um fornecedor.\\n\\nAqui você aprende como emitir notas fiscais para negócios digitais.\\n\\nA boa notícia é que tudo isso pode ser feito de maneira automática. Uma das\\nempresas da Hotmart Company, que conta com integração com a Hotmart é a\\neNotas, que realiza exatamente este serviço.\\n\\nVocê pode contratar pela própria Hotmart e ter a garantia de que todas as\\nNotas Fiscais estão sendo emitidas corretamente e otimizar o seu tempo,\\nfocando no crescimento do seu negócio online.\\n\\n## Comece a sua transformação com a Hotmart!\\n\\nFicamos felizes que você tenha tomado a decisão de conhecer os cursos\\ndisponíveis no universo da Hotmart ou de se tornar um Produtor ou Afiliado.\\nIsso vai te permitir trabalhar com algo que realmente gosta de fazer.\\n\\nSe você deseja ser um empreendedor, saiba que ter uma mentalidade orientada\\npara o sucesso é tão importante quanto o sucesso em si.\\n\\nEsperamos que este conteúdo te ajude a iniciar sua jornada empreendedora! E\\npara te ajudar ainda mais a dar o passo inicial, te convidamos a conhecer o\\nHotmart Academy. Lá você conta com conteúdo gratuito para aprender a criar um\\nproduto e fazer as primeiras vendas.\\n\\n* * *\\n\\n_Este post foi originalmente escrito em junho de 2017 e atualizado para conter\\ninformações mais completas e precisas._\\n\\nQuer descobrir uma nova forma de começar seu próprio negócio digital? Na\\nHotmart, seu conhecimento tem valor!\\n\\nCADASTRE-SE\\n\\nDescubra em 3 minutos quanto você poderia ganhar se tivesse um produto digital\\nna Hotmart\\n\\nQUERO DESCOBRIR\\n\\n## Posts relacionados\\n\\n27/09/2024 •  Empreendedorismo digital\\n\\nSemana 11 do 11: Aproveite um dos picos de vendas da Black November para\\nfaturar mais\\n\\nQue tal um desafio para você vender ainda mais na Black November?\\n\\n23/09/2024 •  Empreendedorismo digital\\n\\nGanha-Ganha Black November: venda mais e ganhe prêmios\\n\\nA Black November da Hotmart que você já conhece está de volta ainda melhor\\npara você aproveitar o melhor mês de vendas!\\n\\n02/08/2024 •  Empreendedorismo digital\\n\\nAs novidades anunciadas no Hotmart FIRE você encontra aqui\\n\\nNo fim de agosto, como é tradição, rolou o maior evento da Creator Economy, o\\nHotmart FIRE, que reuniu diversos experts no Expominas, maior centro de\\nconvenções de Belo Horizonte, capital mineira. E para aproveitar esse momento\\nespecial soltamos várias novidades em primeira mão para os participantes e\\nagora é hora de de compartilhar com o mundo. Confira tudo que há de novo para\\nvocê! Fique por dentro de tudo o que há de novo na nossa plataforma que\\nmelhoram a sua experiência e a dos seus alunos. Nesse blog post vamos explorar\\nas principais mudanças que foram implementadas de junho a julho, para que você\\nfique por dentro de tudo o que há de novo na nossa plataforma que melhoram a\\nsua experiência e a dos seus alunos.\\n\\n31/07/2024 •  Empreendedorismo digital\\n\\nO que há de novo nos relatórios da Hotmart\\n\\nFique por dentro das novidades das soluções de dados da Hotmart para otimizar\\na análise do seu negócio.\\n\\n  * Início\\n  * Blog\\n  * O que é Hotmart e como funciona? DESCUBRA TUDO!\\n\\n  * Cadastre-se gratuitamente \\n  * Materiais Educativos \\n  * Como funciona? \\n  * Portal para Autoridades \\n  * Afiliado \\n  * Soluções da Hotmart \\n  * Marketing Digital \\n  * Capacitação para creators \\n  * Venda mais \\n\\nIdioma Português - Brasil __\\n\\n  * Português - Brasil \\n\\nFeito com\\n\\n____\\n\\nem Belo Horizonte\\n\\nem Madri\\n\\nem Amsterdam\\n\\nem Bogotá\\n\\nna Cidade do México\\n\\nem Nova Iorque\\n\\n  * __\\n\\n  * __\\n\\n  * _ _\\n\\n  * __\\n\\n  * __\\n\\n  * __\\n\\nTermos e Políticas\\n\\nHotmart — 2011- © Todos os direitos reservados\\n\\nLaunch Pad Tecnologia, Serviços e Pagamentos Ltda.  \\nCNPJ nº. 13.427.325/0001-05  \\nEndereço: Avenida Assis Chateaubriand, nº 499, Bairro Floresta, Belo Horizonte\\n-MG, CEP nº 30.150-101\\n\\nCentral de Ajuda\\n\\n## A Hotmart é o lugar certo pra você criar seu primeiro produto digital!\\n\\nPreencha aqui embaixo e faça seu cadastro grátis.\\n\\n')]"
      ]
     },
     "execution_count": 17,
     "metadata": {},
     "output_type": "execute_result"
    }
   ],
   "source": [
    "docs_transformed"
   ]
  },
  {
   "cell_type": "code",
   "execution_count": null,
   "metadata": {},
   "outputs": [],
   "source": [
    "documents = SimpleDirectoryReader(\"./data/10k/\").load_data()"
   ]
  },
  {
   "cell_type": "markdown",
   "metadata": {},
   "source": [
    "# "
   ]
  }
 ],
 "metadata": {
  "kernelspec": {
   "display_name": "hot_env",
   "language": "python",
   "name": "python3"
  },
  "language_info": {
   "codemirror_mode": {
    "name": "ipython",
    "version": 3
   },
   "file_extension": ".py",
   "mimetype": "text/x-python",
   "name": "python",
   "nbconvert_exporter": "python",
   "pygments_lexer": "ipython3",
   "version": "3.10.12"
  }
 },
 "nbformat": 4,
 "nbformat_minor": 2
}
