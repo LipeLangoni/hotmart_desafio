{
 "cells": [
  {
   "cell_type": "markdown",
   "metadata": {},
   "source": [
    "## Topics Chunking"
   ]
  },
  {
   "cell_type": "code",
   "execution_count": 1,
   "metadata": {},
   "outputs": [
    {
     "name": "stderr",
     "output_type": "stream",
     "text": [
      "USER_AGENT environment variable not set, consider setting it to identify your requests.\n"
     ]
    }
   ],
   "source": [
    "from langchain_chroma import Chroma\n",
    "from langchain_openai import OpenAIEmbeddings\n",
    "from langchain_community.document_loaders import AsyncHtmlLoader\n",
    "from langchain_core.documents import Document\n",
    "from langchain_community.document_transformers import Html2TextTransformer\n",
    "import os "
   ]
  },
  {
   "cell_type": "code",
   "execution_count": 2,
   "metadata": {},
   "outputs": [],
   "source": [
    "def chunk_in_topics(text):\n",
    "    topics = text.split('##')\n",
    "    topics = [topic.strip() for topic in topics if topic.strip()]\n",
    "    \n",
    "    return topics\n",
    "\n",
    "def get_documents(topics):\n",
    "    return [Document(\n",
    "            page_content=topic,\n",
    "            metadata={\"source\": \"hotmart\"},\n",
    "            id=index,\n",
    "        ) for index,topic in enumerate(topics)]\n",
    "def load_documents(urls):\n",
    "    loader = AsyncHtmlLoader(urls)\n",
    "    return loader.load()\n",
    "\n",
    "def transform_documents(docs):\n",
    "    html2text = Html2TextTransformer()\n",
    "    return \"\\n\".join(doc.page_content for doc in html2text.transform_documents(docs)) "
   ]
  },
  {
   "cell_type": "code",
   "execution_count": null,
   "metadata": {},
   "outputs": [],
   "source": [
    "combined_content = \"\\n\".join(doc.page_content for doc in docs_transformed)"
   ]
  },
  {
   "cell_type": "code",
   "execution_count": 3,
   "metadata": {},
   "outputs": [
    {
     "name": "stderr",
     "output_type": "stream",
     "text": [
      "Fetching pages: 100%|##########| 1/1 [00:02<00:00,  2.26s/it]\n"
     ]
    }
   ],
   "source": [
    "from dotenv import load_dotenv\n",
    "load_dotenv()\n",
    "openai_api_key = os.getenv('OPENAI_API_KEY')\n",
    "docs = get_documents(chunk_in_topics(transform_documents(load_documents([\"https://hotmart.com/pt-br/blog/como-funciona-hotmart\"]))))\n",
    "vectorstore = Chroma.from_documents(documents=docs, embedding=OpenAIEmbeddings(openai_api_key=openai_api_key, model=\"text-embedding-3-small\"))"
   ]
  },
  {
   "cell_type": "code",
   "execution_count": 4,
   "metadata": {},
   "outputs": [
    {
     "data": {
      "text/plain": [
       "[Document(metadata={'source': 'hotmart'}, page_content='# **Quem pode se tornar um Produtor digital?**\\n\\nPode parecer clichê, mas a verdade é que **qualquer pessoa pode se tornar um\\nProdutor digital** - basta que ela tenha como produzir seu material e saiba\\nusar a internet.\\n\\nO diferencial para alcançar o êxito está na persistência do empreendedor e na\\nvontade que ele tem de aprender com o próprio negócio.'),\n",
       " Document(metadata={'source': 'hotmart'}, page_content='**O que são Produtores?**\\n\\nAgora que você já entendeu o que é um produto digital, está na hora de\\ndescobrir como você se encaixa nesse mercado.\\n\\nExistem, basicamente, dois tipos de pessoas que atuam nessa área, os\\nProdutores e os Afiliados.\\n\\n**Os Produtores são pessoas que desejam criar algum tipo de conteúdo digital\\npara ser vendido na internet.**\\n\\nO Produtor de conteúdo digital pode ser um autor independente, blogueiro ou\\napenas alguém que domina um determinado assunto e decidiu criar um produto\\npara atuar como professor online e compartilhar seu conhecimento com o mundo.\\n\\n> \"O trabalho de um infoprodutor não é simples ou fácil como pode parecer. Pra\\n> ter sucesso, é necessário trabalhar muito na produção do conteúdo e ter boas\\n> estratégias de marketing pra promover o produto\", alerta Andresa de\\n> Carvalho, diretora de marketing da Hotmart.')]"
      ]
     },
     "execution_count": 4,
     "metadata": {},
     "output_type": "execute_result"
    }
   ],
   "source": [
    "vectorstore.similarity_search(\"Um produtor pode ser um blogueiro?\", k=2)"
   ]
  },
  {
   "cell_type": "code",
   "execution_count": 5,
   "metadata": {},
   "outputs": [
    {
     "data": {
      "text/plain": [
       "[Document(metadata={'source': 'hotmart'}, page_content='Para quem a Hotmart é indicada?\\n\\nComo você já viu até aqui, a Hotmart é a solução ideal para quem procura\\nsucesso em negócios digitais.\\n\\nQualquer um pode investir no empreendedorismo digital e passar a viver de\\ninternet. Alguns exemplos são:\\n\\n  * **Quem quer monetizar seu próprio conhecimento:** qualquer conteúdo pode ser transformado em negócio. Basta passear pelo marketplace da Hotmart. Você vai encontrar infoprodutos dos mais diferentes nichos, de agronegócios a idiomas, passando por artesanato e conserto de eletrodomésticos.\\n  * **Trabalhar com marketing digital:** um modelo de negócio bastante popular é ter uma pessoa responsável pelo conteúdo dos produtos digitais e outra focada no lançamento. Aqui, estão envolvidas diferentes habilidades, como tráfego pago, SEO, gestão de redes sociais e o próprio lançamento. Na Hotmart, você pode cadastrar todas as pessoas envolvidas em um infoproduto e o percentual de suas participações e as comissões são divididas automaticamente.\\n  * **Influenciadores digitais e creators de redes** **sociais:** quem já trabalha com conteúdo em social pode usar a Hotmart para monetizar e ter maior controle da receita que gera - dependendo menos de publis. Por aqui, esses profissionais podem criar comunidades pagas, infoprodutos ou vender os produtos de terceiros como Afiliados, aproveitando sua autoridade e audiência para vender mais.\\n  * **Vendedores online:** seja um especialista em tráfego pago ou alguém construindo um negócio online, mas que não quer criar um produto digital, há a opção de trabalhar com afiliação.\\n\\nViu só como a Hotmart funciona para diferentes perfis?\\n\\nA seguir, vamos falar mais sobre os papeis mais tradicionais nessa mecânica, o\\nProdutor de conteúdo e o Afiliado.'),\n",
       " Document(metadata={'source': 'hotmart'}, page_content='Como funciona a Hotmart?\\n\\nA Hotmart é uma plataforma de infoprodutos, que oferece diferentes recursos e\\nsoluções para quem quer vender e comprar produtos digitais na internet.\\n\\nDe maneira resumida, a Hotmart funciona da seguinte maneira:\\n\\n  1. Uma pessoa com conhecimento em determinada área cria um infoproduto (como um curso online ou um ebook) para compartilhar sua habilidade com o mundo.\\n  2. Pessoas com um bom relacionamento e facilidade em fazer vendas ajudam a divulgar e a vender esse produto para o consumidor em troca de uma comissão por venda realizada.\\n  3. O consumidor que está em busca de um novo conhecimento pode comprar o produto em nossa plataforma, pesquisando na página de busca ou seguindo o Link de Divulgação (Hotlink) do Afiliado ou do Produtor.\\n\\nEm outras palavras, a Hotmart oferece uma plataforma EAD que hospeda cursos\\nonline e processa todos os pagamentos online em um só lugar, além de oferecer\\nsoluções que ajudam a escalar negócios digitais.\\n\\nPorém, o que oferecemos é muito mais do que um canal de hospedagem de conteúdo\\ndigital e uma forma de aquisição. A Hotmart é um ecossistema completo e em\\nconstante evolução para trazer ainda mais soluções para criar e escalar\\nnegócios digitais.\\n\\nDados mostram que, na Hotmart, creators faturam 35% mais, sem mexer no esforço\\noperacional.\\n\\nIsso graças ao rápido carregamento, alta taxa de aprovação, variedade de\\nformas de pagamento, usabilidade agradável e ferramentas específicas para\\naumentar as vendas, como o Order Bump e Funil de Vendas, por exemplo.\\n\\n**VÍDEO: Como funciona a Hotmart? Tudo que você precisa saber para vender na\\nHotmart!  \\n\\n**')]"
      ]
     },
     "execution_count": 5,
     "metadata": {},
     "output_type": "execute_result"
    }
   ],
   "source": [
    "vectorstore.similarity_search(\"Para quem a Hotmart é indicada?\", k=2)"
   ]
  },
  {
   "cell_type": "code",
   "execution_count": 6,
   "metadata": {},
   "outputs": [
    {
     "data": {
      "text/plain": [
       "[Document(metadata={'source': 'hotmart'}, page_content='Como funciona a Hotmart?\\n\\nA Hotmart é uma plataforma de infoprodutos, que oferece diferentes recursos e\\nsoluções para quem quer vender e comprar produtos digitais na internet.\\n\\nDe maneira resumida, a Hotmart funciona da seguinte maneira:\\n\\n  1. Uma pessoa com conhecimento em determinada área cria um infoproduto (como um curso online ou um ebook) para compartilhar sua habilidade com o mundo.\\n  2. Pessoas com um bom relacionamento e facilidade em fazer vendas ajudam a divulgar e a vender esse produto para o consumidor em troca de uma comissão por venda realizada.\\n  3. O consumidor que está em busca de um novo conhecimento pode comprar o produto em nossa plataforma, pesquisando na página de busca ou seguindo o Link de Divulgação (Hotlink) do Afiliado ou do Produtor.\\n\\nEm outras palavras, a Hotmart oferece uma plataforma EAD que hospeda cursos\\nonline e processa todos os pagamentos online em um só lugar, além de oferecer\\nsoluções que ajudam a escalar negócios digitais.\\n\\nPorém, o que oferecemos é muito mais do que um canal de hospedagem de conteúdo\\ndigital e uma forma de aquisição. A Hotmart é um ecossistema completo e em\\nconstante evolução para trazer ainda mais soluções para criar e escalar\\nnegócios digitais.\\n\\nDados mostram que, na Hotmart, creators faturam 35% mais, sem mexer no esforço\\noperacional.\\n\\nIsso graças ao rápido carregamento, alta taxa de aprovação, variedade de\\nformas de pagamento, usabilidade agradável e ferramentas específicas para\\naumentar as vendas, como o Order Bump e Funil de Vendas, por exemplo.\\n\\n**VÍDEO: Como funciona a Hotmart? Tudo que você precisa saber para vender na\\nHotmart!  \\n\\n**'),\n",
       " Document(metadata={'source': 'hotmart'}, page_content='Como vender com a Hotmart?\\n\\nO primeiro passo para vender com a Hotmart é fazer o cadastro gratuito.\\n\\nSe você quer criar seus produtos ou comunidade, o passo seguinte é justamente\\nfazer essa configuração na plataforma.\\n\\nPara quem busca um negócio online a partir da afiliação, depois do cadastro,\\nvocê deve passear pelo mercado de afiliação e conhecer melhor as suas opções.\\n\\nO blog está recheado de conteúdos para te ajudar nessas etapas.\\n\\nFeito isso, as vendas são com você: aposte em estratégias de marketing\\ndigital, construa uma audiência e divulgue os seus produtos como achar melhor,\\nsempre fazendo ajustes para vender mais.\\n\\nVocê pode monitorar tudo isso em sua página dentro da Hotmart. Lá, você tem\\nacesso a um Analytics que mostra a quantidade de vendas, o seu faturamento,\\nalém de dados valiosos e que fazem toda a diferença para o seu negócio online.')]"
      ]
     },
     "execution_count": 6,
     "metadata": {},
     "output_type": "execute_result"
    }
   ],
   "source": [
    "vectorstore.similarity_search(\"como vender com a hotmart?\", k=2)"
   ]
  },
  {
   "cell_type": "markdown",
   "metadata": {},
   "source": [
    "## Grid Search Chunking"
   ]
  },
  {
   "cell_type": "code",
   "execution_count": null,
   "metadata": {},
   "outputs": [],
   "source": [
    "import os\n",
    "import time\n",
    "import nest_asyncio\n",
    "from llama_index.core import VectorStoreIndex, SimpleDirectoryReader, ServiceContext\n",
    "from llama_index.core.evaluation import DatasetGenerator, FaithfulnessEvaluator, RelevancyEvaluator\n",
    "from llama_index.llms.openai import OpenAI\n",
    "from langchain_core.documents import Document\n",
    "from langchain_community.document_loaders import AsyncHtmlLoader\n",
    "from langchain_community.document_transformers import Html2TextTransformer\n",
    "from llama_index.readers.web import SimpleWebPageReader\n",
    "import openai\n",
    "from llama_index.llms.ollama import Ollama\n",
    "llm = Ollama(model=\"llama3.2:1b\", request_timeout=120.0)\n",
    "\n",
    "nest_asyncio.apply()\n",
    "\n",
    "faithfulness_gpt4 = FaithfulnessEvaluator(llm=llm)\n",
    "relevancy_gpt4 = RelevancyEvaluator(llm=llm)\n",
    "\n",
    "documents = SimpleWebPageReader(html_to_text=True).load_data(\n",
    "    [\"https://hotmart.com/pt-br/blog/como-funciona-hotmart\"]\n",
    ")\n",
    "data_generator = DatasetGenerator.from_documents(documents)\n",
    "eval_questions = data_generator.generate_questions_from_nodes()\n",
    "eval_documents = documents[:20]\n",
    "\n",
    "def evaluate_response_time_and_accuracy(chunk_size):\n",
    "    total_response_time = 0\n",
    "    total_faithfulness = 0\n",
    "    total_relevancy = 0\n",
    "    vector_index = VectorStoreIndex.from_documents(eval_documents,llm=llm)\n",
    "    query_engine = vector_index.as_query_engine()\n",
    "    num_questions = len(eval_questions)\n",
    "\n",
    "    for question in eval_questions:\n",
    "        start_time = time.time()\n",
    "        response_vector = query_engine.query(question)\n",
    "        elapsed_time = time.time() - start_time\n",
    "        \n",
    "        faithfulness_result = faithfulness_gpt4.evaluate_response(response=response_vector).passing\n",
    "        relevancy_result = relevancy_gpt4.evaluate_response(query=question, response=response_vector).passing\n",
    "\n",
    "        total_response_time += elapsed_time\n",
    "        total_faithfulness += faithfulness_result\n",
    "        total_relevancy += relevancy_result\n",
    "\n",
    "    average_response_time = total_response_time / num_questions\n",
    "    average_faithfulness = total_faithfulness / num_questions\n",
    "    average_relevancy = total_relevancy / num_questions\n",
    "\n",
    "    return average_response_time, average_faithfulness, average_relevancy\n",
    "\n",
    "for chunk_size in [128, 256, 512, 1024, 2048]:\n",
    "    avg_time, avg_faithfulness, avg_relevancy = evaluate_response_time_and_accuracy(chunk_size)\n",
    "    print(f\"Chunk size {chunk_size} - Average Response time: {avg_time:.2f}s, Average Faithfulness: {avg_faithfulness:.2f}, Average Relevancy: {avg_relevancy:.2f}\")\n",
    "\n"
   ]
  }
 ],
 "metadata": {
  "kernelspec": {
   "display_name": "hot_env",
   "language": "python",
   "name": "python3"
  },
  "language_info": {
   "codemirror_mode": {
    "name": "ipython",
    "version": 3
   },
   "file_extension": ".py",
   "mimetype": "text/x-python",
   "name": "python",
   "nbconvert_exporter": "python",
   "pygments_lexer": "ipython3",
   "version": "3.10.12"
  }
 },
 "nbformat": 4,
 "nbformat_minor": 2
}
